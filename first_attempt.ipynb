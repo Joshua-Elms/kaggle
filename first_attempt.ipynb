{
 "cells": [
  {
   "cell_type": "code",
   "execution_count": 114,
   "metadata": {},
   "outputs": [],
   "source": [
    "import pandas as pd\n",
    "import numpy as np\n",
    "import seaborn as sns\n",
    "import matplotlib.pyplot as plt\n",
    "from sklearn.preprocessing import * \n",
    "from sklearn.pipeline import Pipeline\n",
    "from sklearn.impute import KNNImputer\n",
    "from sklearn.decomposition import *"
   ]
  },
  {
   "cell_type": "code",
   "execution_count": 115,
   "metadata": {},
   "outputs": [],
   "source": [
    "def clean_data(path, id_col = 0, is_test = False):\n",
    "    df = pd.read_csv(path, index_col=id_col)\n",
    "    cabins = df[\"Cabin\"].tolist()\n",
    "    decks = [np.NaN] * len(cabins)\n",
    "    rows = [np.NaN] * len(cabins)\n",
    "    sides = [np.NaN] * len(cabins)\n",
    "    for i in range(len(cabins)):\n",
    "        try:\n",
    "            decks[i] = cabins[i][0:1]\n",
    "            rows[i] = float(cabins[i][2:-2])\n",
    "            sides[i] = cabins[i][-1:]\n",
    "        except TypeError:\n",
    "            continue\n",
    "    df[\"Decks\"] = decks\n",
    "    df[\"Rows\"] = rows\n",
    "    df[\"Sides\"] = sides\n",
    "    deckValues = {'A': 0, 'B': 1, 'C': 2, 'D': 3, 'E': 4, 'F': 5, 'G': 6, 'T': 7}\n",
    "    sideValues = {'P': 0, 'S': 1}\n",
    "    planets = {\"Earth\": 0, \"Mars\": 1, \"Europa\": 2}\n",
    "    TorF = {True: 1, False: 0}\n",
    "    destinations = {'TRAPPIST-1e': 0,'PSO J318.5-22': 1, '55 Cancri e': 2}\n",
    "    names = df.Name.values.tolist()\n",
    "    surnames = []\n",
    "    for name in names:\n",
    "        try:\n",
    "            surname = name.split(\" \")[-1].strip()\n",
    "        except AttributeError:\n",
    "            surname = np.NaN\n",
    "        surnames.append(surname)\n",
    "    surname_dict = {surnames[i] : i for i in range(len(surnames))}\n",
    "    df[\"HomePlanet\"] = df[\"HomePlanet\"].replace(planets)\n",
    "    for col in [\"CryoSleep\", \"VIP\"]:\n",
    "        df[col] = df[col].replace(TorF)\n",
    "    if not is_test:\n",
    "       df[\"Transported\"] = df[\"Transported\"].replace(TorF) \n",
    "    df[\"Destination\"] = df[\"Destination\"].replace(destinations)\n",
    "    df[\"Name\"] = surnames\n",
    "    df[\"Name\"] = df[\"Name\"].replace(surname_dict)\n",
    "    df[\"Decks\"] = df[\"Decks\"].replace(deckValues)\n",
    "    df[\"Sides\"] = df[\"Sides\"].replace(sideValues)\n",
    "    new_cols = ['HomePlanet', 'CryoSleep', 'Cabin', 'Destination', 'Age',\n",
    "            'VIP', 'RoomService', 'FoodCourt', 'ShoppingMall', 'Spa', 'VRDeck',\n",
    "            'Name', 'Decks', 'Rows', 'Sides', 'Transported'] if not is_test else ['HomePlanet', 'CryoSleep', 'Cabin', 'Destination', 'Age',\n",
    "            'VIP', 'RoomService', 'FoodCourt', 'ShoppingMall', 'Spa', 'VRDeck',\n",
    "            'Name', 'Decks', 'Rows', 'Sides']\n",
    "    df = df[new_cols]\n",
    "    df = df.drop(\"Cabin\", axis=1)\n",
    "\n",
    "    return df\n"
   ]
  },
  {
   "cell_type": "code",
   "execution_count": 116,
   "metadata": {},
   "outputs": [
    {
     "data": {
      "text/plain": [
       "<AxesSubplot:>"
      ]
     },
     "execution_count": 116,
     "metadata": {},
     "output_type": "execute_result"
    },
    {
     "data": {
      "image/png": "[encoded data removed]",
      "text/plain": [
       "<Figure size 432x288 with 2 Axes>"
      ]
     },
     "metadata": {
      "needs_background": "light"
     },
     "output_type": "display_data"
    }
   ],
   "source": [
    "train_df = clean_data('data/train.csv', is_test = False)\n",
    "train_df\n",
    "sns.heatmap(train_df.corr())"
   ]
  },
  {
   "cell_type": "code",
   "execution_count": 117,
   "metadata": {},
   "outputs": [
    {
     "data": {
      "text/html": [
       "<div>\n",
       "<style scoped>\n",
       "    .dataframe tbody tr th:only-of-type {\n",
       "        vertical-align: middle;\n",
       "    }\n",
       "\n",
       "    .dataframe tbody tr th {\n",
       "        vertical-align: top;\n",
       "    }\n",
       "\n",
       "    .dataframe thead th {\n",
       "        text-align: right;\n",
       "    }\n",
       "</style>\n",
       "<table border=\"1\" class=\"dataframe\">\n",
       "  <thead>\n",
       "    <tr style=\"text-align: right;\">\n",
       "      <th></th>\n",
       "      <th>HomePlanet</th>\n",
       "      <th>CryoSleep</th>\n",
       "      <th>Destination</th>\n",
       "      <th>Age</th>\n",
       "      <th>VIP</th>\n",
       "      <th>RoomService</th>\n",
       "      <th>FoodCourt</th>\n",
       "      <th>ShoppingMall</th>\n",
       "      <th>Spa</th>\n",
       "      <th>VRDeck</th>\n",
       "      <th>Name</th>\n",
       "      <th>Decks</th>\n",
       "      <th>Rows</th>\n",
       "      <th>Sides</th>\n",
       "    </tr>\n",
       "    <tr>\n",
       "      <th>PassengerId</th>\n",
       "      <th></th>\n",
       "      <th></th>\n",
       "      <th></th>\n",
       "      <th></th>\n",
       "      <th></th>\n",
       "      <th></th>\n",
       "      <th></th>\n",
       "      <th></th>\n",
       "      <th></th>\n",
       "      <th></th>\n",
       "      <th></th>\n",
       "      <th></th>\n",
       "      <th></th>\n",
       "      <th></th>\n",
       "    </tr>\n",
       "  </thead>\n",
       "  <tbody>\n",
       "    <tr>\n",
       "      <th>0013_01</th>\n",
       "      <td>0.0</td>\n",
       "      <td>1.0</td>\n",
       "      <td>0.0</td>\n",
       "      <td>27.0</td>\n",
       "      <td>0.0</td>\n",
       "      <td>0.0</td>\n",
       "      <td>0.0</td>\n",
       "      <td>0.0</td>\n",
       "      <td>0.0</td>\n",
       "      <td>0.0</td>\n",
       "      <td>3953</td>\n",
       "      <td>6.0</td>\n",
       "      <td>3.0</td>\n",
       "      <td>1.0</td>\n",
       "    </tr>\n",
       "    <tr>\n",
       "      <th>0018_01</th>\n",
       "      <td>0.0</td>\n",
       "      <td>0.0</td>\n",
       "      <td>0.0</td>\n",
       "      <td>19.0</td>\n",
       "      <td>0.0</td>\n",
       "      <td>0.0</td>\n",
       "      <td>9.0</td>\n",
       "      <td>0.0</td>\n",
       "      <td>2823.0</td>\n",
       "      <td>0.0</td>\n",
       "      <td>1</td>\n",
       "      <td>5.0</td>\n",
       "      <td>4.0</td>\n",
       "      <td>1.0</td>\n",
       "    </tr>\n",
       "    <tr>\n",
       "      <th>0019_01</th>\n",
       "      <td>2.0</td>\n",
       "      <td>1.0</td>\n",
       "      <td>2.0</td>\n",
       "      <td>31.0</td>\n",
       "      <td>0.0</td>\n",
       "      <td>0.0</td>\n",
       "      <td>0.0</td>\n",
       "      <td>0.0</td>\n",
       "      <td>0.0</td>\n",
       "      <td>0.0</td>\n",
       "      <td>2</td>\n",
       "      <td>2.0</td>\n",
       "      <td>0.0</td>\n",
       "      <td>1.0</td>\n",
       "    </tr>\n",
       "    <tr>\n",
       "      <th>0021_01</th>\n",
       "      <td>2.0</td>\n",
       "      <td>0.0</td>\n",
       "      <td>0.0</td>\n",
       "      <td>38.0</td>\n",
       "      <td>0.0</td>\n",
       "      <td>0.0</td>\n",
       "      <td>6652.0</td>\n",
       "      <td>0.0</td>\n",
       "      <td>181.0</td>\n",
       "      <td>585.0</td>\n",
       "      <td>3</td>\n",
       "      <td>2.0</td>\n",
       "      <td>1.0</td>\n",
       "      <td>1.0</td>\n",
       "    </tr>\n",
       "    <tr>\n",
       "      <th>0023_01</th>\n",
       "      <td>0.0</td>\n",
       "      <td>0.0</td>\n",
       "      <td>0.0</td>\n",
       "      <td>20.0</td>\n",
       "      <td>0.0</td>\n",
       "      <td>10.0</td>\n",
       "      <td>0.0</td>\n",
       "      <td>635.0</td>\n",
       "      <td>0.0</td>\n",
       "      <td>0.0</td>\n",
       "      <td>1604</td>\n",
       "      <td>5.0</td>\n",
       "      <td>5.0</td>\n",
       "      <td>1.0</td>\n",
       "    </tr>\n",
       "    <tr>\n",
       "      <th>...</th>\n",
       "      <td>...</td>\n",
       "      <td>...</td>\n",
       "      <td>...</td>\n",
       "      <td>...</td>\n",
       "      <td>...</td>\n",
       "      <td>...</td>\n",
       "      <td>...</td>\n",
       "      <td>...</td>\n",
       "      <td>...</td>\n",
       "      <td>...</td>\n",
       "      <td>...</td>\n",
       "      <td>...</td>\n",
       "      <td>...</td>\n",
       "      <td>...</td>\n",
       "    </tr>\n",
       "    <tr>\n",
       "      <th>9266_02</th>\n",
       "      <td>0.0</td>\n",
       "      <td>1.0</td>\n",
       "      <td>0.0</td>\n",
       "      <td>34.0</td>\n",
       "      <td>0.0</td>\n",
       "      <td>0.0</td>\n",
       "      <td>0.0</td>\n",
       "      <td>0.0</td>\n",
       "      <td>0.0</td>\n",
       "      <td>0.0</td>\n",
       "      <td>4272</td>\n",
       "      <td>6.0</td>\n",
       "      <td>1496.0</td>\n",
       "      <td>1.0</td>\n",
       "    </tr>\n",
       "    <tr>\n",
       "      <th>9269_01</th>\n",
       "      <td>0.0</td>\n",
       "      <td>0.0</td>\n",
       "      <td>0.0</td>\n",
       "      <td>42.0</td>\n",
       "      <td>0.0</td>\n",
       "      <td>0.0</td>\n",
       "      <td>847.0</td>\n",
       "      <td>17.0</td>\n",
       "      <td>10.0</td>\n",
       "      <td>144.0</td>\n",
       "      <td>4273</td>\n",
       "      <td>NaN</td>\n",
       "      <td>NaN</td>\n",
       "      <td>NaN</td>\n",
       "    </tr>\n",
       "    <tr>\n",
       "      <th>9271_01</th>\n",
       "      <td>1.0</td>\n",
       "      <td>1.0</td>\n",
       "      <td>2.0</td>\n",
       "      <td>NaN</td>\n",
       "      <td>0.0</td>\n",
       "      <td>0.0</td>\n",
       "      <td>0.0</td>\n",
       "      <td>0.0</td>\n",
       "      <td>0.0</td>\n",
       "      <td>0.0</td>\n",
       "      <td>4274</td>\n",
       "      <td>3.0</td>\n",
       "      <td>296.0</td>\n",
       "      <td>0.0</td>\n",
       "    </tr>\n",
       "    <tr>\n",
       "      <th>9273_01</th>\n",
       "      <td>2.0</td>\n",
       "      <td>0.0</td>\n",
       "      <td>NaN</td>\n",
       "      <td>NaN</td>\n",
       "      <td>0.0</td>\n",
       "      <td>0.0</td>\n",
       "      <td>2680.0</td>\n",
       "      <td>0.0</td>\n",
       "      <td>0.0</td>\n",
       "      <td>523.0</td>\n",
       "      <td>4275</td>\n",
       "      <td>3.0</td>\n",
       "      <td>297.0</td>\n",
       "      <td>0.0</td>\n",
       "    </tr>\n",
       "    <tr>\n",
       "      <th>9277_01</th>\n",
       "      <td>0.0</td>\n",
       "      <td>1.0</td>\n",
       "      <td>1.0</td>\n",
       "      <td>43.0</td>\n",
       "      <td>0.0</td>\n",
       "      <td>0.0</td>\n",
       "      <td>0.0</td>\n",
       "      <td>0.0</td>\n",
       "      <td>0.0</td>\n",
       "      <td>0.0</td>\n",
       "      <td>4276</td>\n",
       "      <td>6.0</td>\n",
       "      <td>1498.0</td>\n",
       "      <td>1.0</td>\n",
       "    </tr>\n",
       "  </tbody>\n",
       "</table>\n",
       "<p>4277 rows × 14 columns</p>\n",
       "</div>"
      ],
      "text/plain": [
       "             HomePlanet  CryoSleep  Destination   Age  VIP  RoomService  \\\n",
       "PassengerId                                                               \n",
       "0013_01             0.0        1.0          0.0  27.0  0.0          0.0   \n",
       "0018_01             0.0        0.0          0.0  19.0  0.0          0.0   \n",
       "0019_01             2.0        1.0          2.0  31.0  0.0          0.0   \n",
       "0021_01             2.0        0.0          0.0  38.0  0.0          0.0   \n",
       "0023_01             0.0        0.0          0.0  20.0  0.0         10.0   \n",
       "...                 ...        ...          ...   ...  ...          ...   \n",
       "9266_02             0.0        1.0          0.0  34.0  0.0          0.0   \n",
       "9269_01             0.0        0.0          0.0  42.0  0.0          0.0   \n",
       "9271_01             1.0        1.0          2.0   NaN  0.0          0.0   \n",
       "9273_01             2.0        0.0          NaN   NaN  0.0          0.0   \n",
       "9277_01             0.0        1.0          1.0  43.0  0.0          0.0   \n",
       "\n",
       "             FoodCourt  ShoppingMall     Spa  VRDeck  Name  Decks    Rows  \\\n",
       "PassengerId                                                                 \n",
       "0013_01            0.0           0.0     0.0     0.0  3953    6.0     3.0   \n",
       "0018_01            9.0           0.0  2823.0     0.0     1    5.0     4.0   \n",
       "0019_01            0.0           0.0     0.0     0.0     2    2.0     0.0   \n",
       "0021_01         6652.0           0.0   181.0   585.0     3    2.0     1.0   \n",
       "0023_01            0.0         635.0     0.0     0.0  1604    5.0     5.0   \n",
       "...                ...           ...     ...     ...   ...    ...     ...   \n",
       "9266_02            0.0           0.0     0.0     0.0  4272    6.0  1496.0   \n",
       "9269_01          847.0          17.0    10.0   144.0  4273    NaN     NaN   \n",
       "9271_01            0.0           0.0     0.0     0.0  4274    3.0   296.0   \n",
       "9273_01         2680.0           0.0     0.0   523.0  4275    3.0   297.0   \n",
       "9277_01            0.0           0.0     0.0     0.0  4276    6.0  1498.0   \n",
       "\n",
       "             Sides  \n",
       "PassengerId         \n",
       "0013_01        1.0  \n",
       "0018_01        1.0  \n",
       "0019_01        1.0  \n",
       "0021_01        1.0  \n",
       "0023_01        1.0  \n",
       "...            ...  \n",
       "9266_02        1.0  \n",
       "9269_01        NaN  \n",
       "9271_01        0.0  \n",
       "9273_01        0.0  \n",
       "9277_01        1.0  \n",
       "\n",
       "[4277 rows x 14 columns]"
      ]
     },
     "execution_count": 117,
     "metadata": {},
     "output_type": "execute_result"
    }
   ],
   "source": [
    "test_df = clean_data('data/test.csv', is_test = True)\n",
    "test_df"
   ]
  },
  {
   "cell_type": "code",
   "execution_count": 118,
   "metadata": {},
   "outputs": [],
   "source": [
    "train = train_df.values\n",
    "\n",
    "X_train = train[:, :-1]\n",
    "y_train = train[:, -1]"
   ]
  },
  {
   "cell_type": "code",
   "execution_count": 119,
   "metadata": {},
   "outputs": [
    {
     "data": {
      "text/plain": [
       "array([[2.00e+00, 0.00e+00, 0.00e+00, ..., 1.00e+00, 0.00e+00, 0.00e+00],\n",
       "       [0.00e+00, 0.00e+00, 0.00e+00, ..., 5.00e+00, 0.00e+00, 1.00e+00],\n",
       "       [2.00e+00, 0.00e+00, 0.00e+00, ..., 0.00e+00, 0.00e+00, 1.00e+00],\n",
       "       ...,\n",
       "       [0.00e+00, 0.00e+00, 0.00e+00, ..., 6.00e+00, 1.50e+03, 1.00e+00],\n",
       "       [2.00e+00, 0.00e+00, 2.00e+00, ..., 4.00e+00, 6.08e+02, 1.00e+00],\n",
       "       [2.00e+00, 0.00e+00, 0.00e+00, ..., 4.00e+00, 6.08e+02, 1.00e+00]])"
      ]
     },
     "execution_count": 119,
     "metadata": {},
     "output_type": "execute_result"
    }
   ],
   "source": [
    "# Imputation\n",
    "knn_imp = KNNImputer(missing_values=np.nan, n_neighbors = 4)\n",
    "X_train_imp = knn_imp.fit_transform(X_train)\n",
    "X_train_imp"
   ]
  },
  {
   "cell_type": "code",
   "execution_count": 120,
   "metadata": {},
   "outputs": [
    {
     "data": {
      "text/plain": [
       "array([[ 1.54296399, -0.7583334 , -0.63521461, ..., -1.8717519 ,\n",
       "        -1.18051703, -1.01917073],\n",
       "       [-0.84661151, -0.7583334 , -0.63521461, ...,  0.3915274 ,\n",
       "        -1.18051703,  0.99885812],\n",
       "       [ 1.54296399, -0.7583334 , -0.63521461, ..., -2.43757172,\n",
       "        -1.18051703,  0.99885812],\n",
       "       ...,\n",
       "       [-0.84661151, -0.7583334 , -0.63521461, ...,  0.95734722,\n",
       "         1.76992266,  0.99885812],\n",
       "       [ 1.54296399, -0.7583334 ,  1.82211226, ..., -0.17429242,\n",
       "         0.01539452,  0.99885812],\n",
       "       [ 1.54296399, -0.7583334 , -0.63521461, ..., -0.17429242,\n",
       "         0.01539452,  0.99885812]])"
      ]
     },
     "execution_count": 120,
     "metadata": {},
     "output_type": "execute_result"
    }
   ],
   "source": [
    "scaler = StandardScaler()\n",
    "X_train_scaled = scaler.fit_transform(X_train_imp)\n",
    "X_train_scaled\n"
   ]
  },
  {
   "cell_type": "code",
   "execution_count": 121,
   "metadata": {},
   "outputs": [
    {
     "data": {
      "text/plain": [
       "PCA()"
      ]
     },
     "execution_count": 121,
     "metadata": {},
     "output_type": "execute_result"
    }
   ],
   "source": [
    "pca = PCA()\n",
    "pca.fit(X_train_scaled)"
   ]
  },
  {
   "cell_type": "code",
   "execution_count": 122,
   "metadata": {},
   "outputs": [
    {
     "data": {
      "text/plain": [
       "array([ 0.69188279, -0.1626458 ,  0.033892  ,  0.00641975, -0.0037138 ,\n",
       "       -0.06263028, -0.03695874, -0.03450741, -0.04185488, -0.02207622,\n",
       "        0.04110843,  0.6906543 , -0.07891897,  0.00097348])"
      ]
     },
     "execution_count": 122,
     "metadata": {},
     "output_type": "execute_result"
    }
   ],
   "source": [
    "explained = pca.explained_variance_\n",
    "explained_ratio = pca.explained_variance_ratio_\n",
    "components = pca.components_\n",
    "pr0 = components[-1]\n",
    "vals = (X_train_scaled[1])\n",
    "pr0"
   ]
  },
  {
   "cell_type": "code",
   "execution_count": 123,
   "metadata": {},
   "outputs": [
    {
     "data": {
      "image/png": "[encoded data removed]",
      "text/plain": [
       "<Figure size 432x288 with 2 Axes>"
      ]
     },
     "metadata": {
      "needs_background": "light"
     },
     "output_type": "display_data"
    }
   ],
   "source": [
    "# plotting princomps \n",
    "dict1 = {f\"PC{i}\": [explained_ratio[i]] for i in range(len(explained_ratio))}\n",
    "df = pd.DataFrame(dict1)\n",
    "\n",
    "x = range(1, len(explained_ratio) + 1)\n",
    "vars = explained_ratio\n",
    "cum_vars = explained_ratio.cumsum()\n",
    "\n",
    "fig, (ax1, ax2) = plt.subplots(ncols=2, sharex=True)\n",
    "sns.lineplot(x = x, y = vars*100, marker=\"o\", markerfacecolor=\"red\",  ax=ax1)\n",
    "sns.lineplot(x = x, y = cum_vars*100, marker=\"o\", markerfacecolor=\"red\", ax=ax2)\n",
    "\n",
    "ax1.set_title('Component Variance')\n",
    "ax2.set_title('Cumulative Variance')\n",
    "\n",
    "xtick_pos = range(0, 14, 5)\n",
    "y1tick_range = range(0, 36, 5)\n",
    "y2tick_range = range(30, 101, 10)\n",
    "add_pct = lambda lst: [f\"{s}%\" for s in lst]\n",
    "\n",
    "ax1.set_xticks(xtick_pos)\n",
    "\n",
    "ax1.set_yticks(y1tick_range)\n",
    "ax2.set_yticks(y2tick_range)\n",
    "\n",
    "ax1.set_yticklabels(add_pct(y1tick_range))\n",
    "ax2.set_yticklabels(add_pct(y2tick_range))\n",
    "\n",
    "ax1.set_xlabel(\"PC Number\")\n",
    "ax2.set_xlabel(\"PC Number\")\n",
    "\n",
    "ax1.grid(visible=True, which=\"minor\")\n",
    "ax2.grid(visible=True, which=\"minor\")\n",
    "\n",
    "# ax2.set_xticks(range(1, X.shape[1]+1, 2))\n",
    "\n",
    "plt.show()"
   ]
  },
  {
   "cell_type": "code",
   "execution_count": 124,
   "metadata": {},
   "outputs": [
    {
     "data": {
      "text/plain": [
       "1    4378\n",
       "0    4315\n",
       "Name: Transported, dtype: int64"
      ]
     },
     "execution_count": 124,
     "metadata": {},
     "output_type": "execute_result"
    }
   ],
   "source": [
    "train_df.Transported.value_counts()"
   ]
  },
  {
   "cell_type": "code",
   "execution_count": 125,
   "metadata": {},
   "outputs": [
    {
     "name": "stdout",
     "output_type": "stream",
     "text": [
      "Transported: 4378\n",
      "Not Transported: 4315\n"
     ]
    }
   ],
   "source": [
    "false = train_df.iloc[:, -1][train_df.iloc[:, -1] == 0].count()\n",
    "true = train_df.iloc[:, -1][train_df.iloc[:, -1] == 1].count()\n",
    "\n",
    "print(f\"Transported: {true}\")\n",
    "print(f\"Not Transported: {false}\")"
   ]
  },
  {
   "cell_type": "code",
   "execution_count": 126,
   "metadata": {},
   "outputs": [
    {
     "data": {
      "text/plain": [
       "array([ True,  True, False, ...,  True,  True,  True])"
      ]
     },
     "execution_count": 126,
     "metadata": {},
     "output_type": "execute_result"
    }
   ],
   "source": [
    "rng = np.random.default_rng(seed=111)\n",
    "random_guesses = rng.choice([True, False], size = (4277,), p = [0.50362361, 0.49637639])\n",
    "random_guesses"
   ]
  },
  {
   "cell_type": "code",
   "execution_count": 130,
   "metadata": {},
   "outputs": [],
   "source": [
    "submission1_df = test_df.copy()\n",
    "submission1_df[\"Transported\"] = random_guesses\n",
    "submission1_df = submission1_df.drop(submission1_df.columns[:-1], axis=1)\n",
    "submission1_df.to_csv(\"submissions/s1.csv\")"
   ]
  }
 ],
 "metadata": {
  "interpreter": {
   "hash": "7087cade44551991ab1c17831aa0ad4cb8fda1bb3065faca1532360fd6c987db"
  },
  "kernelspec": {
   "display_name": "Python 3.10.4 ('dataScience')",
   "language": "python",
   "name": "python3"
  },
  "language_info": {
   "codemirror_mode": {
    "name": "ipython",
    "version": 3
   },
   "file_extension": ".py",
   "mimetype": "text/x-python",
   "name": "python",
   "nbconvert_exporter": "python",
   "pygments_lexer": "ipython3",
   "version": "3.10.4"
  },
  "orig_nbformat": 4
 },
 "nbformat": 4,
 "nbformat_minor": 2
}
