{
 "cells": [
  {
   "cell_type": "code",
   "execution_count": null,
   "metadata": {},
   "outputs": [],
   "source": [
    "import pandas as pd\n",
    "import numpy as np\n",
    "import seaborn as sns\n",
    "import matplotlib.pyplot as plt\n",
    "from sklearn.preprocessing import * \n",
    "from sklearn.pipeline import Pipeline\n",
    "from sklearn.impute import KNNImputer\n",
    "from sklearn.decomposition import *\n",
    "from sklearn.linear_model import *"
   ]
  },
  {
   "cell_type": "code",
   "execution_count": null,
   "metadata": {},
   "outputs": [],
   "source": [
    "def clean_data(path, id_col = 0, is_test = False):\n",
    "    df = pd.read_csv(path, index_col=id_col)\n",
    "    cabins = df[\"Cabin\"].tolist()\n",
    "    decks = [np.NaN] * len(cabins)\n",
    "    rows = [np.NaN] * len(cabins)\n",
    "    sides = [np.NaN] * len(cabins)\n",
    "    for i in range(len(cabins)):\n",
    "        try:\n",
    "            decks[i] = cabins[i][0:1]\n",
    "            rows[i] = float(cabins[i][2:-2])\n",
    "            sides[i] = cabins[i][-1:]\n",
    "        except TypeError:\n",
    "            continue\n",
    "    df[\"Decks\"] = decks\n",
    "    df[\"Rows\"] = rows\n",
    "    df[\"Sides\"] = sides\n",
    "    deckValues = {'A': 0, 'B': 1, 'C': 2, 'D': 3, 'E': 4, 'F': 5, 'G': 6, 'T': 7}\n",
    "    sideValues = {'P': 0, 'S': 1}\n",
    "    planets = {\"Earth\": 0, \"Mars\": 1, \"Europa\": 2}\n",
    "    TorF = {True: 1, False: 0}\n",
    "    destinations = {'TRAPPIST-1e': 0,'PSO J318.5-22': 1, '55 Cancri e': 2}\n",
    "    names = df.Name.values.tolist()\n",
    "    surnames = []\n",
    "    for name in names:\n",
    "        try:\n",
    "            surname = name.split(\" \")[-1].strip()\n",
    "        except AttributeError:\n",
    "            surname = np.NaN\n",
    "        surnames.append(surname)\n",
    "    surname_dict = {surnames[i] : i for i in range(len(surnames))}\n",
    "    df[\"HomePlanet\"] = df[\"HomePlanet\"].replace(planets)\n",
    "    for col in [\"CryoSleep\", \"VIP\"]:\n",
    "        df[col] = df[col].replace(TorF)\n",
    "    if not is_test:\n",
    "       df[\"Transported\"] = df[\"Transported\"].replace(TorF) \n",
    "    df[\"Destination\"] = df[\"Destination\"].replace(destinations)\n",
    "    df[\"Name\"] = surnames\n",
    "    df[\"Name\"] = df[\"Name\"].replace(surname_dict)\n",
    "    df[\"Decks\"] = df[\"Decks\"].replace(deckValues)\n",
    "    df[\"Sides\"] = df[\"Sides\"].replace(sideValues)\n",
    "    new_cols = ['HomePlanet', 'CryoSleep', 'Cabin', 'Destination', 'Age',\n",
    "            'VIP', 'RoomService', 'FoodCourt', 'ShoppingMall', 'Spa', 'VRDeck',\n",
    "            'Name', 'Decks', 'Rows', 'Sides', 'Transported'] if not is_test else ['HomePlanet', 'CryoSleep', 'Cabin', 'Destination', 'Age',\n",
    "            'VIP', 'RoomService', 'FoodCourt', 'ShoppingMall', 'Spa', 'VRDeck',\n",
    "            'Name', 'Decks', 'Rows', 'Sides']\n",
    "    df = df[new_cols]\n",
    "    df = df.drop(\"Cabin\", axis=1)\n",
    "\n",
    "    return df\n"
   ]
  },
  {
   "cell_type": "code",
   "execution_count": null,
   "metadata": {},
   "outputs": [],
   "source": [
    "train_df = clean_data('data/train.csv', is_test = False)\n",
    "train_df\n",
    "sns.heatmap(train_df.corr())"
   ]
  },
  {
   "cell_type": "code",
   "execution_count": null,
   "metadata": {},
   "outputs": [],
   "source": [
    "test_df = clean_data('data/test.csv', is_test = True)\n",
    "test_df"
   ]
  },
  {
   "cell_type": "code",
   "execution_count": null,
   "metadata": {},
   "outputs": [],
   "source": [
    "train = train_df.values\n",
    "\n",
    "X_train = train[:, :-1]\n",
    "y_train = train[:, -1]"
   ]
  },
  {
   "cell_type": "code",
   "execution_count": null,
   "metadata": {},
   "outputs": [],
   "source": [
    "# Imputation\n",
    "knn_imp = KNNImputer(missing_values=np.nan, n_neighbors = 4)\n",
    "X_train_imp = knn_imp.fit_transform(X_train)\n",
    "X_train_imp"
   ]
  },
  {
   "cell_type": "code",
   "execution_count": null,
   "metadata": {},
   "outputs": [],
   "source": [
    "scaler = StandardScaler()\n",
    "X_train_scaled = scaler.fit_transform(X_train_imp)\n",
    "X_train_scaled\n"
   ]
  },
  {
   "cell_type": "code",
   "execution_count": null,
   "metadata": {},
   "outputs": [],
   "source": [
    "pca = PCA()\n",
    "pca.fit(X_train_scaled)"
   ]
  },
  {
   "cell_type": "code",
   "execution_count": null,
   "metadata": {},
   "outputs": [],
   "source": [
    "explained = pca.explained_variance_\n",
    "explained_ratio = pca.explained_variance_ratio_\n",
    "components = pca.components_\n",
    "pr0 = components[-1]\n",
    "vals = (X_train_scaled[1])\n",
    "pr0"
   ]
  },
  {
   "cell_type": "code",
   "execution_count": null,
   "metadata": {},
   "outputs": [],
   "source": [
    "# plotting princomps \n",
    "dict1 = {f\"PC{i}\": [explained_ratio[i]] for i in range(len(explained_ratio))}\n",
    "df = pd.DataFrame(dict1)\n",
    "\n",
    "x = range(1, len(explained_ratio) + 1)\n",
    "vars = explained_ratio\n",
    "cum_vars = explained_ratio.cumsum()\n",
    "\n",
    "fig, (ax1, ax2) = plt.subplots(ncols=2, sharex=True)\n",
    "sns.lineplot(x = x, y = vars*100, marker=\"o\", markerfacecolor=\"red\",  ax=ax1)\n",
    "sns.lineplot(x = x, y = cum_vars*100, marker=\"o\", markerfacecolor=\"red\", ax=ax2)\n",
    "\n",
    "ax1.set_title('Component Variance')\n",
    "ax2.set_title('Cumulative Variance')\n",
    "\n",
    "xtick_pos = range(0, 14, 5)\n",
    "y1tick_range = range(0, 36, 5)\n",
    "y2tick_range = range(30, 101, 10)\n",
    "add_pct = lambda lst: [f\"{s}%\" for s in lst]\n",
    "\n",
    "ax1.set_xticks(xtick_pos)\n",
    "\n",
    "ax1.set_yticks(y1tick_range)\n",
    "ax2.set_yticks(y2tick_range)\n",
    "\n",
    "ax1.set_yticklabels(add_pct(y1tick_range))\n",
    "ax2.set_yticklabels(add_pct(y2tick_range))\n",
    "\n",
    "ax1.set_xlabel(\"PC Number\")\n",
    "ax2.set_xlabel(\"PC Number\")\n",
    "\n",
    "ax1.grid(visible=True, which=\"minor\")\n",
    "ax2.grid(visible=True, which=\"minor\")\n",
    "\n",
    "# ax2.set_xticks(range(1, X.shape[1]+1, 2))\n",
    "\n",
    "plt.show()"
   ]
  },
  {
   "cell_type": "code",
   "execution_count": null,
   "metadata": {},
   "outputs": [],
   "source": [
    "train_df.Transported.value_counts()"
   ]
  },
  {
   "cell_type": "code",
   "execution_count": null,
   "metadata": {},
   "outputs": [],
   "source": [
    "false = train_df.iloc[:, -1][train_df.iloc[:, -1] == 0].count()\n",
    "true = train_df.iloc[:, -1][train_df.iloc[:, -1] == 1].count()\n",
    "\n",
    "print(f\"Transported: {true}\")\n",
    "print(f\"Not Transported: {false}\")"
   ]
  },
  {
   "cell_type": "code",
   "execution_count": null,
   "metadata": {},
   "outputs": [],
   "source": [
    "rng = np.random.default_rng(seed=111)\n",
    "random_guesses = rng.choice([True, False], size = (4277,), p = [0.50362361, 0.49637639])\n",
    "random_guesses"
   ]
  },
  {
   "cell_type": "code",
   "execution_count": null,
   "metadata": {},
   "outputs": [],
   "source": [
    "submission1_df = test_df.copy()\n",
    "submission1_df[\"Transported\"] = random_guesses\n",
    "submission1_df = submission1_df.drop(submission1_df.columns[:-1], axis=1)\n",
    "submission1_df.to_csv(\"submissions/s1.csv\")"
   ]
  },
  {
   "cell_type": "code",
   "execution_count": null,
   "metadata": {},
   "outputs": [],
   "source": [
    "X_test = test_df.values\n",
    "knn_imp = KNNImputer(missing_values=np.nan, n_neighbors = 4)\n",
    "X_test_imp = knn_imp.fit_transform(X_test)\n",
    "scaler = StandardScaler()\n",
    "X_test_scaled = scaler.fit_transform(X_test_imp)"
   ]
  },
  {
   "cell_type": "code",
   "execution_count": null,
   "metadata": {},
   "outputs": [],
   "source": [
    "logistic = LogisticRegression()\n",
    "logistic.fit(X_train_scaled, y_train)\n",
    "logistic_preds = logistic.predict(X_test_scaled)\n",
    "logistic_preds = logistic_preds.astype(bool)\n"
   ]
  },
  {
   "cell_type": "code",
   "execution_count": null,
   "metadata": {},
   "outputs": [],
   "source": [
    "submission2_df = test_df.copy()\n",
    "submission2_df[\"Transported\"] = logistic_preds\n",
    "submission2_df = submission2_df.drop(submission2_df.columns[:-1], axis=1)\n",
    "submission2_df.to_csv(\"submissions/s2.csv\")"
   ]
  },
  {
   "cell_type": "code",
   "execution_count": null,
   "metadata": {},
   "outputs": [],
   "source": [
    "def clean_data(path, id_col = 0, is_test = False):\n",
    "    df = pd.read_csv(path, index_col=id_col)\n",
    "    cabins = df[\"Cabin\"].tolist()\n",
    "    decks = [np.NaN] * len(cabins)\n",
    "    rows = [np.NaN] * len(cabins)\n",
    "    sides = [np.NaN] * len(cabins)\n",
    "    for i in range(len(cabins)):\n",
    "        try:\n",
    "            decks[i] = cabins[i][0:1]\n",
    "            rows[i] = float(cabins[i][2:-2])\n",
    "            sides[i] = cabins[i][-1:]\n",
    "        except TypeError:\n",
    "            continue\n",
    "    df[\"Decks\"] = decks\n",
    "    df[\"Rows\"] = rows\n",
    "    df[\"Sides\"] = sides\n",
    "    deckValues = {'A': 0, 'B': 1, 'C': 2, 'D': 3, 'E': 4, 'F': 5, 'G': 6, 'T': 7}\n",
    "    sideValues = {'P': 0, 'S': 1}\n",
    "    planets = {\"Earth\": 0, \"Mars\": 1, \"Europa\": 2}\n",
    "    TorF = {True: 1, False: 0}\n",
    "    destinations = {'TRAPPIST-1e': 0,'PSO J318.5-22': 1, '55 Cancri e': 2}\n",
    "    names = df.Name.values.tolist()\n",
    "    surnames = []\n",
    "    for name in names:\n",
    "        try:\n",
    "            surname = name.split(\" \")[-1].strip()\n",
    "        except AttributeError:\n",
    "            surname = np.NaN\n",
    "        surnames.append(surname)\n",
    "    surname_dict = {surnames[i] : i for i in range(len(surnames))}\n",
    "    df[\"HomePlanet\"] = df[\"HomePlanet\"].replace(planets)\n",
    "    for col in [\"CryoSleep\", \"VIP\"]:\n",
    "        df[col] = df[col].replace(TorF)\n",
    "    if not is_test:\n",
    "       df[\"Transported\"] = df[\"Transported\"].replace(TorF) \n",
    "    df[\"Destination\"] = df[\"Destination\"].replace(destinations)\n",
    "    df[\"Name\"] = surnames\n",
    "    df[\"Name\"] = df[\"Name\"].replace(surname_dict)\n",
    "    df[\"Decks\"] = df[\"Decks\"].replace(deckValues)\n",
    "    df[\"Sides\"] = df[\"Sides\"].replace(sideValues)\n",
    "    new_cols = ['HomePlanet', 'CryoSleep', 'Cabin', 'Destination', 'Age',\n",
    "            'VIP', 'RoomService', 'FoodCourt', 'ShoppingMall', 'Spa', 'VRDeck',\n",
    "            'Name', 'Decks', 'Rows', 'Sides', 'Transported'] if not is_test else ['HomePlanet', 'CryoSleep', 'Cabin', 'Destination', 'Age',\n",
    "            'VIP', 'RoomService', 'FoodCourt', 'ShoppingMall', 'Spa', 'VRDeck',\n",
    "            'Name', 'Decks', 'Rows', 'Sides']\n",
    "    df = df[new_cols]\n",
    "    df = df.drop(\"Cabin\", axis=1)\n",
    "\n",
    "    return df\n"
   ]
  },
  {
   "cell_type": "code",
   "execution_count": null,
   "metadata": {},
   "outputs": [],
   "source": [
    "test_df = clean_data('data/test.csv', is_test = True)\n",
    "test_df"
   ]
  },
  {
   "cell_type": "code",
   "execution_count": null,
   "metadata": {},
   "outputs": [],
   "source": [
    "# Imputation\n",
    "knn_imp = KNNImputer(missing_values=np.nan, n_neighbors = 4)\n",
    "X_train_imp = knn_imp.fit_transform(X_train)\n",
    "X_train_imp"
   ]
  },
  {
   "cell_type": "code",
   "execution_count": null,
   "metadata": {},
   "outputs": [],
   "source": [
    "pca = PCA()\n",
    "pca.fit(X_train_scaled)"
   ]
  },
  {
   "cell_type": "code",
   "execution_count": null,
   "metadata": {},
   "outputs": [],
   "source": [
    "# plotting princomps \n",
    "dict1 = {f\"PC{i}\": [explained_ratio[i]] for i in range(len(explained_ratio))}\n",
    "df = pd.DataFrame(dict1)\n",
    "\n",
    "x = range(1, len(explained_ratio) + 1)\n",
    "vars = explained_ratio\n",
    "cum_vars = explained_ratio.cumsum()\n",
    "\n",
    "fig, (ax1, ax2) = plt.subplots(ncols=2, sharex=True)\n",
    "sns.lineplot(x = x, y = vars*100, marker=\"o\", markerfacecolor=\"red\",  ax=ax1)\n",
    "sns.lineplot(x = x, y = cum_vars*100, marker=\"o\", markerfacecolor=\"red\", ax=ax2)\n",
    "\n",
    "ax1.set_title('Component Variance')\n",
    "ax2.set_title('Cumulative Variance')\n",
    "\n",
    "xtick_pos = range(0, 14, 5)\n",
    "y1tick_range = range(0, 36, 5)\n",
    "y2tick_range = range(30, 101, 10)\n",
    "add_pct = lambda lst: [f\"{s}%\" for s in lst]\n",
    "\n",
    "ax1.set_xticks(xtick_pos)\n",
    "\n",
    "ax1.set_yticks(y1tick_range)\n",
    "ax2.set_yticks(y2tick_range)\n",
    "\n",
    "ax1.set_yticklabels(add_pct(y1tick_range))\n",
    "ax2.set_yticklabels(add_pct(y2tick_range))\n",
    "\n",
    "ax1.set_xlabel(\"PC Number\")\n",
    "ax2.set_xlabel(\"PC Number\")\n",
    "\n",
    "ax1.grid(visible=True, which=\"minor\")\n",
    "ax2.grid(visible=True, which=\"minor\")\n",
    "\n",
    "# ax2.set_xticks(range(1, X.shape[1]+1, 2))\n",
    "\n",
    "plt.show()"
   ]
  },
  {
   "cell_type": "code",
   "execution_count": null,
   "metadata": {},
   "outputs": [],
   "source": [
    "false = train_df.iloc[:, -1][train_df.iloc[:, -1] == 0].count()\n",
    "true = train_df.iloc[:, -1][train_df.iloc[:, -1] == 1].count()\n",
    "\n",
    "print(f\"Transported: {true}\")\n",
    "print(f\"Not Transported: {false}\")"
   ]
  },
  {
   "cell_type": "code",
   "execution_count": null,
   "metadata": {},
   "outputs": [],
   "source": [
    "submission1_df = test_df.copy()\n",
    "submission1_df[\"Transported\"] = random_guesses\n",
    "submission1_df = submission1_df.drop(submission1_df.columns[:-1], axis=1)\n",
    "submission1_df.to_csv(\"submissions/s1.csv\")"
   ]
  },
  {
   "cell_type": "code",
   "execution_count": null,
   "metadata": {},
   "outputs": [],
   "source": [
    "logistic = LogisticRegression()\n",
    "logistic.fit(X_train_scaled, y_train)\n",
    "logistic_preds = logistic.predict(X_test_scaled)\n",
    "logistic_preds = logistic_preds.astype(bool)\n"
   ]
  }
 ],
 "metadata": {
  "kernelspec": {
   "display_name": "Python 3.10.4 ('rising_sun')",
   "language": "python",
   "name": "python3"
  },
  "language_info": {
   "codemirror_mode": {
    "name": "ipython",
    "version": 3
   },
   "file_extension": ".py",
   "mimetype": "text/x-python",
   "name": "python",
   "nbconvert_exporter": "python",
   "pygments_lexer": "ipython3",
   "version": "3.10.4"
  },
  "orig_nbformat": 4,
  "vscode": {
   "interpreter": {
    "hash": "bebecaaf41780d017764b59d9fbf95c0501ae565161cbfe7bdcfa8b1930c3dd6"
   }
  }
 },
 "nbformat": 4,
 "nbformat_minor": 2
}
