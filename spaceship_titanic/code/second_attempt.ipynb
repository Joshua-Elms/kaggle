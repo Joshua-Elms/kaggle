{
 "cells": [
  {
   "cell_type": "code",
   "execution_count": 1,
   "metadata": {},
   "outputs": [],
   "source": [
    "from pprint import pprint\n",
    "\n",
    "import sklearn.datasets\n",
    "import sklearn.metrics\n",
    "\n",
    "import autosklearn.classification\n",
    "\n",
    "import sys\n",
    "sys.path.append(\"../utils.py\")\n",
    "\n",
    "from utils import clean_data"
   ]
  },
  {
   "cell_type": "code",
   "execution_count": 2,
   "metadata": {},
   "outputs": [],
   "source": [
    "# read in data\n",
    "\n",
    "train_df = clean_data('../data/train.csv', is_test = False)\n",
    "test_df = clean_data('../data/test.csv', is_test = True)\n",
    "\n",
    "train = train_df.values\n",
    "\n",
    "X_train = train[:, :-1]\n",
    "y_train = train[:, -1]"
   ]
  },
  {
   "cell_type": "code",
   "execution_count": 3,
   "metadata": {},
   "outputs": [
    {
     "name": "stderr",
     "output_type": "stream",
     "text": [
      "/home/joshuae/miniconda3/envs/autosklearn/lib/python3.9/site-packages/autosklearn/metalearning/metalearning/meta_base.py:68: FutureWarning: The frame.append method is deprecated and will be removed from pandas in a future version. Use pandas.concat instead.\n",
      "  self.metafeatures = self.metafeatures.append(metafeatures)\n",
      "/home/joshuae/miniconda3/envs/autosklearn/lib/python3.9/site-packages/autosklearn/metalearning/metalearning/meta_base.py:72: FutureWarning: The frame.append method is deprecated and will be removed from pandas in a future version. Use pandas.concat instead.\n",
      "  self.algorithm_runs[metric].append(runs)\n"
     ]
    }
   ],
   "source": [
    "\n",
    "\n",
    "X_train, X_test, y_train, y_test = sklearn.model_selection.train_test_split(X_train, y_train, random_state=1)\n",
    "automl = autosklearn.classification.AutoSklearnClassifier(\n",
    "    time_left_for_this_task=60*60*2\n",
    ")\n",
    "automl.fit(X_train, y_train)\n",
    "y_hat = automl.predict(X_test)\n",
    "print(\"Accuracy score\", sklearn.metrics.accuracy_score(y_test, y_hat))"
   ]
  },
  {
   "cell_type": "code",
   "execution_count": null,
   "metadata": {},
   "outputs": [
    {
     "data": {
      "text/html": [
       "<div>\n",
       "<style scoped>\n",
       "    .dataframe tbody tr th:only-of-type {\n",
       "        vertical-align: middle;\n",
       "    }\n",
       "\n",
       "    .dataframe tbody tr th {\n",
       "        vertical-align: top;\n",
       "    }\n",
       "\n",
       "    .dataframe thead th {\n",
       "        text-align: right;\n",
       "    }\n",
       "</style>\n",
       "<table border=\"1\" class=\"dataframe\">\n",
       "  <thead>\n",
       "    <tr style=\"text-align: right;\">\n",
       "      <th></th>\n",
       "      <th>rank</th>\n",
       "      <th>ensemble_weight</th>\n",
       "      <th>type</th>\n",
       "      <th>cost</th>\n",
       "      <th>duration</th>\n",
       "    </tr>\n",
       "    <tr>\n",
       "      <th>model_id</th>\n",
       "      <th></th>\n",
       "      <th></th>\n",
       "      <th></th>\n",
       "      <th></th>\n",
       "      <th></th>\n",
       "    </tr>\n",
       "  </thead>\n",
       "  <tbody>\n",
       "    <tr>\n",
       "      <th>7</th>\n",
       "      <td>1</td>\n",
       "      <td>0.38</td>\n",
       "      <td>gradient_boosting</td>\n",
       "      <td>0.195041</td>\n",
       "      <td>6.444209</td>\n",
       "    </tr>\n",
       "    <tr>\n",
       "      <th>13</th>\n",
       "      <td>2</td>\n",
       "      <td>0.28</td>\n",
       "      <td>mlp</td>\n",
       "      <td>0.213223</td>\n",
       "      <td>28.693747</td>\n",
       "    </tr>\n",
       "    <tr>\n",
       "      <th>4</th>\n",
       "      <td>3</td>\n",
       "      <td>0.04</td>\n",
       "      <td>lda</td>\n",
       "      <td>0.258678</td>\n",
       "      <td>7.929806</td>\n",
       "    </tr>\n",
       "    <tr>\n",
       "      <th>11</th>\n",
       "      <td>4</td>\n",
       "      <td>0.14</td>\n",
       "      <td>mlp</td>\n",
       "      <td>0.267769</td>\n",
       "      <td>22.205076</td>\n",
       "    </tr>\n",
       "    <tr>\n",
       "      <th>6</th>\n",
       "      <td>5</td>\n",
       "      <td>0.08</td>\n",
       "      <td>gaussian_nb</td>\n",
       "      <td>0.276033</td>\n",
       "      <td>4.332684</td>\n",
       "    </tr>\n",
       "    <tr>\n",
       "      <th>5</th>\n",
       "      <td>6</td>\n",
       "      <td>0.08</td>\n",
       "      <td>gaussian_nb</td>\n",
       "      <td>0.276860</td>\n",
       "      <td>10.864488</td>\n",
       "    </tr>\n",
       "  </tbody>\n",
       "</table>\n",
       "</div>"
      ],
      "text/plain": [
       "          rank  ensemble_weight               type      cost   duration\n",
       "model_id                                                               \n",
       "7            1             0.38  gradient_boosting  0.195041   6.444209\n",
       "13           2             0.28                mlp  0.213223  28.693747\n",
       "4            3             0.04                lda  0.258678   7.929806\n",
       "11           4             0.14                mlp  0.267769  22.205076\n",
       "6            5             0.08        gaussian_nb  0.276033   4.332684\n",
       "5            6             0.08        gaussian_nb  0.276860  10.864488"
      ]
     },
     "execution_count": 10,
     "metadata": {},
     "output_type": "execute_result"
    }
   ],
   "source": [
    "automl.leaderboard()"
   ]
  }
 ],
 "metadata": {
  "kernelspec": {
   "display_name": "Python 3.9.13 ('autosklearn')",
   "language": "python",
   "name": "python3"
  },
  "language_info": {
   "codemirror_mode": {
    "name": "ipython",
    "version": 3
   },
   "file_extension": ".py",
   "mimetype": "text/x-python",
   "name": "python",
   "nbconvert_exporter": "python",
   "pygments_lexer": "ipython3",
   "version": "3.9.13"
  },
  "orig_nbformat": 4,
  "vscode": {
   "interpreter": {
    "hash": "7ec63eb1921944f97d5b15b0bc8ef68a8d1027c26669dfbfb6a27eb954008c81"
   }
  }
 },
 "nbformat": 4,
 "nbformat_minor": 2
}
